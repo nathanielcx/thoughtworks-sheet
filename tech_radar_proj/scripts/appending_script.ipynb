{
 "cells": [
  {
   "cell_type": "code",
   "execution_count": 4,
   "id": "252318b8",
   "metadata": {},
   "outputs": [],
   "source": [
    "import pandas as pd\n",
    "\n",
    "data_new = pd.read_csv('Old_Plus_New.csv')\n",
    "data_old = pd.read_csv('MoH_Tech_v3.csv', encoding='cp1252') #need encoding entry when weird windows from Martin\n",
    "\n",
    "def clean_csv(csv):\n",
    "    new_rows = []\n",
    "    for index, row in csv.iterrows():\n",
    "        if row['ring'].lower() == 'employ':\n",
    "            row['ring'] = 'Employ'\n",
    "        if row['ring'].lower() == 'explore':\n",
    "            row['ring'] = 'Explore'\n",
    "        if row['ring'].lower() == 'retire':\n",
    "            row['ring'] = 'Retire'\n",
    "        if row['ring'].lower() == 'hold':\n",
    "            row['ring'] = 'Deprecate'\n",
    "        \n",
    "        new_rows.append(list(row)[0:])\n",
    "    return pd.DataFrame(new_rows)\n",
    "\n",
    "def append_csvs(csv_one, csv_two):\n",
    "    new_rows = []\n",
    "    for index_one, row_one in csv_one.iterrows():\n",
    "        new_rows.append(list(row_one[0:]))\n",
    "    duplicate = False\n",
    "    for index_two, row_two in csv_two.iterrows():\n",
    "        for row in new_rows:\n",
    "            if row_two[0] == row[0]:\n",
    "                duplicate = True\n",
    "        if duplicate:\n",
    "            duplicate = False\n",
    "            continue\n",
    "        new_rows.append(list(row_two[0:]))\n",
    "    return pd.DataFrame(new_rows)\n",
    "                \n",
    "    \n",
    "df_one = clean_csv(data_new)\n",
    "df_two = clean_csv(data_old)\n",
    "df = append_csvs(df_one, df_two)\n",
    "#print(df)\n",
    "\n",
    "df.to_csv('result.csv', header = ['name', 'SubCategory', 'MOH_Status','ring','quadrant','isNew','description'], index=False)"
   ]
  },
  {
   "cell_type": "code",
   "execution_count": null,
   "id": "1f15515c",
   "metadata": {},
   "outputs": [],
   "source": []
  }
 ],
 "metadata": {
  "kernelspec": {
   "display_name": "Python 3 (ipykernel)",
   "language": "python",
   "name": "python3"
  },
  "language_info": {
   "codemirror_mode": {
    "name": "ipython",
    "version": 3
   },
   "file_extension": ".py",
   "mimetype": "text/x-python",
   "name": "python",
   "nbconvert_exporter": "python",
   "pygments_lexer": "ipython3",
   "version": "3.9.1"
  }
 },
 "nbformat": 4,
 "nbformat_minor": 5
}
